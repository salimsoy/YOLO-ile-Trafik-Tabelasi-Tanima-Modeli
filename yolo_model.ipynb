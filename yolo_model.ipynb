{
 "cells": [
  {
   "cell_type": "code",
   "execution_count": null,
   "metadata": {
    "execution": {
     "iopub.execute_input": "2025-05-15T22:38:41.592070Z",
     "iopub.status.busy": "2025-05-15T22:38:41.591480Z",
     "iopub.status.idle": "2025-05-15T22:40:08.224638Z",
     "shell.execute_reply": "2025-05-15T22:40:08.223942Z",
     "shell.execute_reply.started": "2025-05-15T22:38:41.592045Z"
    }
   },
   "outputs": [],
   "source": [
    "!pip install ultralytics"
   ]
  },
  {
   "cell_type": "code",
   "execution_count": null,
   "metadata": {
    "execution": {
     "iopub.execute_input": "2025-05-15T22:40:26.064887Z",
     "iopub.status.busy": "2025-05-15T22:40:26.064065Z",
     "iopub.status.idle": "2025-05-15T22:40:30.028093Z",
     "shell.execute_reply": "2025-05-15T22:40:30.027527Z",
     "shell.execute_reply.started": "2025-05-15T22:40:26.064847Z"
    }
   },
   "outputs": [],
   "source": [
    "import os\n",
    "import random\n",
    "import pandas as pd\n",
    "from PIL import Image\n",
    "import cv2\n",
    "from ultralytics import YOLO\n",
    "from IPython.display import Video\n",
    "import numpy as np\n",
    "import matplotlib.pyplot as plt\n",
    "import seaborn as sns\n",
    "sns.set(style='darkgrid')\n",
    "import pathlib\n",
    "import glob\n",
    "from tqdm.notebook import trange, tqdm\n",
    "import warnings\n",
    "warnings.filterwarnings('ignore')"
   ]
  },
  {
   "cell_type": "code",
   "execution_count": null,
   "metadata": {
    "execution": {
     "iopub.execute_input": "2025-05-15T22:40:38.588202Z",
     "iopub.status.busy": "2025-05-15T22:40:38.587499Z",
     "iopub.status.idle": "2025-05-15T22:40:38.592356Z",
     "shell.execute_reply": "2025-05-15T22:40:38.591554Z",
     "shell.execute_reply.started": "2025-05-15T22:40:38.588181Z"
    }
   },
   "outputs": [],
   "source": [
    "sns.set(rc={'axes.facecolor': '#eae8fa'}, style='darkgrid')"
   ]
  },
  {
   "cell_type": "code",
   "execution_count": null,
   "metadata": {
    "execution": {
     "iopub.execute_input": "2025-05-15T22:42:11.333791Z",
     "iopub.status.busy": "2025-05-15T22:42:11.333066Z",
     "iopub.status.idle": "2025-05-15T22:42:13.127850Z",
     "shell.execute_reply": "2025-05-15T22:42:13.126910Z",
     "shell.execute_reply.started": "2025-05-15T22:42:11.333746Z"
    }
   },
   "outputs": [],
   "source": [
    "Image_dir = '/kaggle/input/trafik-isaret/dataset-test/train/images/'\n",
    "\n",
    "num_samples = 9\n",
    "image_files = os.listdir(Image_dir)\n",
    "\n",
    "\n",
    "rand_images = random.sample(image_files, num_samples)\n",
    "\n",
    "fig, axes = plt.subplots(3, 3, figsize=(11, 11))\n",
    "\n",
    "for i in range(num_samples):\n",
    "    image = rand_images[i]\n",
    "    ax = axes[i // 3, i % 3]\n",
    "    ax.imshow(plt.imread(os.path.join(Image_dir, image)))\n",
    "    ax.set_title(f'Image {i+1}')\n",
    "    ax.axis('off')\n",
    "\n",
    "plt.tight_layout()\n",
    "plt.show()"
   ]
  },
  {
   "cell_type": "code",
   "execution_count": null,
   "metadata": {
    "execution": {
     "iopub.execute_input": "2025-05-15T22:45:43.616021Z",
     "iopub.status.busy": "2025-05-15T22:45:43.615299Z",
     "iopub.status.idle": "2025-05-15T22:45:43.625688Z",
     "shell.execute_reply": "2025-05-15T22:45:43.624958Z",
     "shell.execute_reply.started": "2025-05-15T22:45:43.616001Z"
    }
   },
   "outputs": [],
   "source": [
    "\n",
    "image = cv2.imread(\"/kaggle/input/trafik-isaret/dataset-test/train/images/00000_00000_00012_png.rf.23f94508dba03ef2f8bd187da2ec9c26.jpg\")\n",
    "h, w, c = image.shape\n",
    "print(f\"The image has dimensions {w}x{h} and {c} channels.\")"
   ]
  },
  {
   "cell_type": "code",
   "execution_count": null,
   "metadata": {
    "execution": {
     "iopub.execute_input": "2025-05-15T22:43:22.318883Z",
     "iopub.status.busy": "2025-05-15T22:43:22.318593Z",
     "iopub.status.idle": "2025-05-15T22:43:27.149273Z",
     "shell.execute_reply": "2025-05-15T22:43:27.148617Z",
     "shell.execute_reply.started": "2025-05-15T22:43:22.318863Z"
    }
   },
   "outputs": [],
   "source": [
    "model = YOLO(\"yolov8n.pt\") \n",
    "\n",
    "\n",
    "image = \"/kaggle/input/trafik-isaret/dataset-test/train/images/FisheyeCamera_1_00228_png.rf.e7c43ee9b922f7b2327b8a00ccf46a4c.jpg\"\n",
    "result_predict = model.predict(source = image, imgsz=(640))\n",
    "\n",
    "\n",
    "plot = result_predict[0].plot()\n",
    "plot = cv2.cvtColor(plot, cv2.COLOR_BGR2RGB)\n",
    "display(Image.fromarray(plot))"
   ]
  },
  {
   "cell_type": "code",
   "execution_count": null,
   "metadata": {
    "execution": {
     "iopub.execute_input": "2025-05-15T22:45:51.765153Z",
     "iopub.status.busy": "2025-05-15T22:45:51.764873Z",
     "iopub.status.idle": "2025-05-15T22:45:55.660305Z",
     "shell.execute_reply": "2025-05-15T22:45:55.659319Z",
     "shell.execute_reply.started": "2025-05-15T22:45:51.765134Z"
    }
   },
   "outputs": [],
   "source": [
    "!pip install --upgrade ultralytics ray"
   ]
  },
  {
   "cell_type": "code",
   "execution_count": null,
   "metadata": {
    "execution": {
     "iopub.execute_input": "2025-05-15T22:46:59.220573Z",
     "iopub.status.busy": "2025-05-15T22:46:59.219611Z",
     "iopub.status.idle": "2025-05-15T23:49:42.108253Z",
     "shell.execute_reply": "2025-05-15T23:49:42.107452Z",
     "shell.execute_reply.started": "2025-05-15T22:46:59.220537Z"
    }
   },
   "outputs": [],
   "source": [
    "# Build from YAML and transfer weights\n",
    "Final_model = YOLO('yolov8n.pt')  \n",
    "\n",
    "# Training The Final Model\n",
    "Result_Final_model = Final_model.train(data=\"/kaggle/input/trafik-isaret/dataset-test/data.yaml\",epochs = 30, batch = -1, optimizer = 'auto')"
   ]
  },
  {
   "cell_type": "code",
   "execution_count": null,
   "metadata": {
    "execution": {
     "iopub.execute_input": "2025-05-16T00:15:41.680985Z",
     "iopub.status.busy": "2025-05-16T00:15:41.680659Z",
     "iopub.status.idle": "2025-05-16T00:15:45.164034Z",
     "shell.execute_reply": "2025-05-16T00:15:45.163088Z",
     "shell.execute_reply.started": "2025-05-16T00:15:41.680961Z"
    }
   },
   "outputs": [],
   "source": [
    "import os\n",
    "import cv2\n",
    "import matplotlib.pyplot as plt\n",
    "\n",
    "def display_images(post_training_files_path, image_files):\n",
    "\n",
    "    for image_file in image_files:\n",
    "        image_path = os.path.join(post_training_files_path, image_file)\n",
    "        img = cv2.imread(image_path)\n",
    "        img = cv2.cvtColor(img, cv2.COLOR_BGR2RGB)\n",
    "        \n",
    "        plt.figure(figsize=(10, 10), dpi=120)\n",
    "        plt.imshow(img)\n",
    "        plt.axis('off')\n",
    "        plt.show()\n",
    "\n",
    "\n",
    "image_files = [\n",
    "    'confusion_matrix_normalized.png',\n",
    "    'F1_curve.png',\n",
    "    'P_curve.png',\n",
    "    'R_curve.png',\n",
    "    'PR_curve.png',\n",
    "    'results.png'\n",
    "]\n",
    "\n",
    "\n",
    "post_training_files_path = '/kaggle/working/runs/detect/train2'\n",
    "\n",
    "\n",
    "display_images(post_training_files_path, image_files)"
   ]
  },
  {
   "cell_type": "code",
   "execution_count": null,
   "metadata": {
    "execution": {
     "iopub.execute_input": "2025-05-16T00:16:33.886820Z",
     "iopub.status.busy": "2025-05-16T00:16:33.886301Z",
     "iopub.status.idle": "2025-05-16T00:16:33.913975Z",
     "shell.execute_reply": "2025-05-16T00:16:33.913325Z",
     "shell.execute_reply.started": "2025-05-16T00:16:33.886790Z"
    }
   },
   "outputs": [],
   "source": [
    "Result_Final_model = pd.read_csv('/kaggle/working/runs/detect/train2/results.csv')\n",
    "Result_Final_model.tail(10)"
   ]
  },
  {
   "cell_type": "code",
   "execution_count": null,
   "metadata": {
    "execution": {
     "iopub.execute_input": "2025-05-16T00:18:10.938941Z",
     "iopub.status.busy": "2025-05-16T00:18:10.938419Z",
     "iopub.status.idle": "2025-05-16T00:18:44.642158Z",
     "shell.execute_reply": "2025-05-16T00:18:44.641390Z",
     "shell.execute_reply.started": "2025-05-16T00:18:10.938919Z"
    }
   },
   "outputs": [],
   "source": [
    "\n",
    "Valid_model = YOLO('/kaggle/working/runs/detect/train2/weights/best.pt')\n",
    "\n",
    "\n",
    "metrics = Valid_model.val(split = 'val')\n",
    "\n",
    "\n",
    "print(\"precision(B): \", metrics.results_dict[\"metrics/precision(B)\"])\n",
    "print(\"metrics/recall(B): \", metrics.results_dict[\"metrics/recall(B)\"])\n",
    "print(\"metrics/mAP50(B): \", metrics.results_dict[\"metrics/mAP50(B)\"])\n",
    "print(\"metrics/mAP50-95(B): \", metrics.results_dict[\"metrics/mAP50-95(B)\"])"
   ]
  },
  {
   "cell_type": "code",
   "execution_count": null,
   "metadata": {
    "execution": {
     "iopub.execute_input": "2025-05-16T00:19:57.768944Z",
     "iopub.status.busy": "2025-05-16T00:19:57.768149Z",
     "iopub.status.idle": "2025-05-16T00:20:01.022092Z",
     "shell.execute_reply": "2025-05-16T00:20:01.020825Z",
     "shell.execute_reply.started": "2025-05-16T00:19:57.768914Z"
    }
   },
   "outputs": [],
   "source": [
    "\n",
    "def normalize_image(image):\n",
    "    return image / 255.0\n",
    "\n",
    "\n",
    "def resize_image(image, size=(640, 640)):\n",
    "    return cv2.resize(image, size)\n",
    "\n",
    "\n",
    "dataset_path = '/kaggle/input/trafik-isaret/dataset-test'  \n",
    "valid_images_path = os.path.join(dataset_path, 'test', 'images')\n",
    "\n",
    "\n",
    "image_files = [file for file in os.listdir(valid_images_path) if file.endswith('.jpg')]\n",
    "\n",
    "\n",
    "if len(image_files) > 0:\n",
    "    num_images = len(image_files)\n",
    "    step_size = max(1, num_images // 9)  \n",
    "    selected_images = [image_files[i] for i in range(0, num_images, step_size)]\n",
    "\n",
    "  \n",
    "    fig, axes = plt.subplots(3, 3, figsize=(20, 21))\n",
    "    fig.suptitle('Validation Set Inferences', fontsize=24)\n",
    "\n",
    "    for i, ax in enumerate(axes.flatten()):\n",
    "        if i < len(selected_images):\n",
    "            image_path = os.path.join(valid_images_path, selected_images[i])\n",
    "            \n",
    "\n",
    "            image = cv2.imread(image_path)\n",
    "            \n",
    "          \n",
    "            if image is not None:\n",
    "          \n",
    "                resized_image = resize_image(image, size=(640, 640))\n",
    "         \n",
    "                normalized_image = normalize_image(resized_image)\n",
    "        \n",
    "                normalized_image_uint8 = (normalized_image * 255).astype(np.uint8)\n",
    "                \n",
    "  \n",
    "                results = Valid_model.predict(source=normalized_image_uint8, imgsz=640, conf=0.5)\n",
    "                \n",
    "  \n",
    "                annotated_image = results[0].plot(line_width=1)\n",
    "                annotated_image_rgb = cv2.cvtColor(annotated_image, cv2.COLOR_BGR2RGB)\n",
    "                ax.imshow(annotated_image_rgb)\n",
    "            else:\n",
    "                print(f\"Failed to load image {image_path}\")\n",
    "        ax.axis('off')\n",
    "\n",
    "    plt.tight_layout()\n",
    "    plt.show()"
   ]
  },
  {
   "cell_type": "code",
   "execution_count": null,
   "metadata": {
    "execution": {
     "iopub.execute_input": "2025-05-16T00:20:31.846503Z",
     "iopub.status.busy": "2025-05-16T00:20:31.846210Z",
     "iopub.status.idle": "2025-05-16T00:20:46.624245Z",
     "shell.execute_reply": "2025-05-16T00:20:46.623622Z",
     "shell.execute_reply.started": "2025-05-16T00:20:31.846481Z"
    }
   },
   "outputs": [],
   "source": [
    "Valid_model.export(format='onnx')"
   ]
  }
 ],
 "metadata": {
  "kaggle": {
   "accelerator": "gpu",
   "dataSources": [
    {
     "datasetId": 7430903,
     "sourceId": 11828712,
     "sourceType": "datasetVersion"
    }
   ],
   "isGpuEnabled": true,
   "isInternetEnabled": true,
   "language": "python",
   "sourceType": "notebook"
  },
  "kernelspec": {
   "display_name": "Python [conda env:base] *",
   "language": "python",
   "name": "conda-base-py"
  },
  "language_info": {
   "codemirror_mode": {
    "name": "ipython",
    "version": 3
   },
   "file_extension": ".py",
   "mimetype": "text/x-python",
   "name": "python",
   "nbconvert_exporter": "python",
   "pygments_lexer": "ipython3",
   "version": "3.11.7"
  }
 },
 "nbformat": 4,
 "nbformat_minor": 4
}
